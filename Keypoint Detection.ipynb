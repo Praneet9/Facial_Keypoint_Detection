{
 "cells": [
  {
   "cell_type": "code",
   "execution_count": 1,
   "metadata": {
    "ExecuteTime": {
     "end_time": "2019-10-05T14:44:31.733703Z",
     "start_time": "2019-10-05T14:44:30.587047Z"
    }
   },
   "outputs": [
    {
     "name": "stderr",
     "output_type": "stream",
     "text": [
      "Using TensorFlow backend.\n",
      "/home/praneet/venv/no_gpu/lib/python3.6/site-packages/tensorflow/python/framework/dtypes.py:519: FutureWarning: Passing (type, 1) or '1type' as a synonym of type is deprecated; in a future version of numpy, it will be understood as (type, (1,)) / '(1,)type'.\n",
      "  _np_qint8 = np.dtype([(\"qint8\", np.int8, 1)])\n",
      "/home/praneet/venv/no_gpu/lib/python3.6/site-packages/tensorflow/python/framework/dtypes.py:520: FutureWarning: Passing (type, 1) or '1type' as a synonym of type is deprecated; in a future version of numpy, it will be understood as (type, (1,)) / '(1,)type'.\n",
      "  _np_quint8 = np.dtype([(\"quint8\", np.uint8, 1)])\n",
      "/home/praneet/venv/no_gpu/lib/python3.6/site-packages/tensorflow/python/framework/dtypes.py:521: FutureWarning: Passing (type, 1) or '1type' as a synonym of type is deprecated; in a future version of numpy, it will be understood as (type, (1,)) / '(1,)type'.\n",
      "  _np_qint16 = np.dtype([(\"qint16\", np.int16, 1)])\n",
      "/home/praneet/venv/no_gpu/lib/python3.6/site-packages/tensorflow/python/framework/dtypes.py:522: FutureWarning: Passing (type, 1) or '1type' as a synonym of type is deprecated; in a future version of numpy, it will be understood as (type, (1,)) / '(1,)type'.\n",
      "  _np_quint16 = np.dtype([(\"quint16\", np.uint16, 1)])\n",
      "/home/praneet/venv/no_gpu/lib/python3.6/site-packages/tensorflow/python/framework/dtypes.py:523: FutureWarning: Passing (type, 1) or '1type' as a synonym of type is deprecated; in a future version of numpy, it will be understood as (type, (1,)) / '(1,)type'.\n",
      "  _np_qint32 = np.dtype([(\"qint32\", np.int32, 1)])\n",
      "/home/praneet/venv/no_gpu/lib/python3.6/site-packages/tensorflow/python/framework/dtypes.py:528: FutureWarning: Passing (type, 1) or '1type' as a synonym of type is deprecated; in a future version of numpy, it will be understood as (type, (1,)) / '(1,)type'.\n",
      "  np_resource = np.dtype([(\"resource\", np.ubyte, 1)])\n"
     ]
    }
   ],
   "source": [
    "import pandas as pd\n",
    "import numpy as np\n",
    "import cv2\n",
    "from keras.models import Sequential\n",
    "from keras.layers import Conv2D, Dense, MaxPool2D, Flatten, Dropout, GlobalAveragePooling2D\n",
    "from keras.optimizers import Adam"
   ]
  },
  {
   "cell_type": "code",
   "execution_count": 2,
   "metadata": {
    "ExecuteTime": {
     "end_time": "2019-10-05T14:44:32.083938Z",
     "start_time": "2019-10-05T14:44:32.079137Z"
    }
   },
   "outputs": [],
   "source": [
    "def smoothL1(y_true, y_pred):\n",
    "    x = K.abs(y_true - y_pred)\n",
    "    if K._BACKEND == 'tensorflow':\n",
    "        x = tf.where(x < HUBER_DELTA, 0.5 * x ** 2, HUBER_DELTA * (x - 0.5 * HUBER_DELTA))\n",
    "        return  K.sum(x)"
   ]
  },
  {
   "cell_type": "code",
   "execution_count": 3,
   "metadata": {
    "ExecuteTime": {
     "end_time": "2019-10-05T14:44:33.384290Z",
     "start_time": "2019-10-05T14:44:33.026459Z"
    }
   },
   "outputs": [],
   "source": [
    "train_csv = pd.read_csv('dataset/training_frames_keypoints.csv').T\n",
    "test_csv = pd.read_csv('dataset/test_frames_keypoints.csv').T"
   ]
  },
  {
   "cell_type": "code",
   "execution_count": 4,
   "metadata": {
    "ExecuteTime": {
     "end_time": "2019-10-05T14:44:34.890738Z",
     "start_time": "2019-10-05T14:44:34.856689Z"
    }
   },
   "outputs": [
    {
     "data": {
      "text/html": [
       "<div>\n",
       "<style scoped>\n",
       "    .dataframe tbody tr th:only-of-type {\n",
       "        vertical-align: middle;\n",
       "    }\n",
       "\n",
       "    .dataframe tbody tr th {\n",
       "        vertical-align: top;\n",
       "    }\n",
       "\n",
       "    .dataframe thead th {\n",
       "        text-align: right;\n",
       "    }\n",
       "</style>\n",
       "<table border=\"1\" class=\"dataframe\">\n",
       "  <thead>\n",
       "    <tr style=\"text-align: right;\">\n",
       "      <th></th>\n",
       "      <th>0</th>\n",
       "      <th>1</th>\n",
       "      <th>2</th>\n",
       "      <th>3</th>\n",
       "      <th>4</th>\n",
       "      <th>5</th>\n",
       "      <th>6</th>\n",
       "      <th>7</th>\n",
       "      <th>8</th>\n",
       "      <th>9</th>\n",
       "      <th>...</th>\n",
       "      <th>3452</th>\n",
       "      <th>3453</th>\n",
       "      <th>3454</th>\n",
       "      <th>3455</th>\n",
       "      <th>3456</th>\n",
       "      <th>3457</th>\n",
       "      <th>3458</th>\n",
       "      <th>3459</th>\n",
       "      <th>3460</th>\n",
       "      <th>3461</th>\n",
       "    </tr>\n",
       "  </thead>\n",
       "  <tbody>\n",
       "    <tr>\n",
       "      <td>Unnamed: 0</td>\n",
       "      <td>Luis_Fonsi_21.jpg</td>\n",
       "      <td>Lincoln_Chafee_52.jpg</td>\n",
       "      <td>Valerie_Harper_30.jpg</td>\n",
       "      <td>Angelo_Reyes_22.jpg</td>\n",
       "      <td>Kristen_Breitweiser_11.jpg</td>\n",
       "      <td>Albert_Brooks_12.jpg</td>\n",
       "      <td>Daniel_Radcliffe_02.jpg</td>\n",
       "      <td>Laura_Bozzo_41.jpg</td>\n",
       "      <td>James_Hoffa_51.jpg</td>\n",
       "      <td>Christopher_Walken_20.jpg</td>\n",
       "      <td>...</td>\n",
       "      <td>Alma_Powell_42.jpg</td>\n",
       "      <td>Kweisi_Mfume_51.jpg</td>\n",
       "      <td>Kurt_Warner_10.jpg</td>\n",
       "      <td>Priyanka_Chopra_51.jpg</td>\n",
       "      <td>Charlotte_Casiraghi_11.jpg</td>\n",
       "      <td>Thomas_Ferguson_02.jpg</td>\n",
       "      <td>Valerie_Harper_00.jpg</td>\n",
       "      <td>Maggie_Smith_00.jpg</td>\n",
       "      <td>Erin_Hershey_Presley_41.jpg</td>\n",
       "      <td>Rocco_Buttiglione_42.jpg</td>\n",
       "    </tr>\n",
       "    <tr>\n",
       "      <td>0</td>\n",
       "      <td>45</td>\n",
       "      <td>41</td>\n",
       "      <td>56</td>\n",
       "      <td>61</td>\n",
       "      <td>58</td>\n",
       "      <td>67</td>\n",
       "      <td>35</td>\n",
       "      <td>90</td>\n",
       "      <td>47</td>\n",
       "      <td>126</td>\n",
       "      <td>...</td>\n",
       "      <td>68</td>\n",
       "      <td>34</td>\n",
       "      <td>59</td>\n",
       "      <td>122</td>\n",
       "      <td>59</td>\n",
       "      <td>35</td>\n",
       "      <td>72</td>\n",
       "      <td>52</td>\n",
       "      <td>82</td>\n",
       "      <td>93</td>\n",
       "    </tr>\n",
       "    <tr>\n",
       "      <td>1</td>\n",
       "      <td>98</td>\n",
       "      <td>83</td>\n",
       "      <td>69</td>\n",
       "      <td>80</td>\n",
       "      <td>94</td>\n",
       "      <td>134</td>\n",
       "      <td>57</td>\n",
       "      <td>68</td>\n",
       "      <td>101</td>\n",
       "      <td>107</td>\n",
       "      <td>...</td>\n",
       "      <td>78</td>\n",
       "      <td>73</td>\n",
       "      <td>152</td>\n",
       "      <td>93</td>\n",
       "      <td>71</td>\n",
       "      <td>94</td>\n",
       "      <td>133</td>\n",
       "      <td>149</td>\n",
       "      <td>91</td>\n",
       "      <td>134</td>\n",
       "    </tr>\n",
       "    <tr>\n",
       "      <td>2</td>\n",
       "      <td>47</td>\n",
       "      <td>43</td>\n",
       "      <td>56</td>\n",
       "      <td>58</td>\n",
       "      <td>58</td>\n",
       "      <td>69</td>\n",
       "      <td>35</td>\n",
       "      <td>88</td>\n",
       "      <td>47</td>\n",
       "      <td>126</td>\n",
       "      <td>...</td>\n",
       "      <td>65</td>\n",
       "      <td>34</td>\n",
       "      <td>66</td>\n",
       "      <td>119</td>\n",
       "      <td>59</td>\n",
       "      <td>35</td>\n",
       "      <td>76</td>\n",
       "      <td>56</td>\n",
       "      <td>82</td>\n",
       "      <td>93</td>\n",
       "    </tr>\n",
       "    <tr>\n",
       "      <td>3</td>\n",
       "      <td>106</td>\n",
       "      <td>91</td>\n",
       "      <td>77</td>\n",
       "      <td>95</td>\n",
       "      <td>104</td>\n",
       "      <td>144</td>\n",
       "      <td>62</td>\n",
       "      <td>74</td>\n",
       "      <td>117</td>\n",
       "      <td>122</td>\n",
       "      <td>...</td>\n",
       "      <td>87</td>\n",
       "      <td>82</td>\n",
       "      <td>178</td>\n",
       "      <td>105</td>\n",
       "      <td>84</td>\n",
       "      <td>105</td>\n",
       "      <td>147</td>\n",
       "      <td>160</td>\n",
       "      <td>105</td>\n",
       "      <td>147</td>\n",
       "    </tr>\n",
       "  </tbody>\n",
       "</table>\n",
       "<p>5 rows × 3462 columns</p>\n",
       "</div>"
      ],
      "text/plain": [
       "                         0                      1                      2     \\\n",
       "Unnamed: 0  Luis_Fonsi_21.jpg  Lincoln_Chafee_52.jpg  Valerie_Harper_30.jpg   \n",
       "0                          45                     41                     56   \n",
       "1                          98                     83                     69   \n",
       "2                          47                     43                     56   \n",
       "3                         106                     91                     77   \n",
       "\n",
       "                           3                           4     \\\n",
       "Unnamed: 0  Angelo_Reyes_22.jpg  Kristen_Breitweiser_11.jpg   \n",
       "0                            61                          58   \n",
       "1                            80                          94   \n",
       "2                            58                          58   \n",
       "3                            95                         104   \n",
       "\n",
       "                            5                        6                   7     \\\n",
       "Unnamed: 0  Albert_Brooks_12.jpg  Daniel_Radcliffe_02.jpg  Laura_Bozzo_41.jpg   \n",
       "0                             67                       35                  90   \n",
       "1                            134                       57                  68   \n",
       "2                             69                       35                  88   \n",
       "3                            144                       62                  74   \n",
       "\n",
       "                          8                          9     ...  \\\n",
       "Unnamed: 0  James_Hoffa_51.jpg  Christopher_Walken_20.jpg  ...   \n",
       "0                           47                        126  ...   \n",
       "1                          101                        107  ...   \n",
       "2                           47                        126  ...   \n",
       "3                          117                        122  ...   \n",
       "\n",
       "                          3452                 3453                3454  \\\n",
       "Unnamed: 0  Alma_Powell_42.jpg  Kweisi_Mfume_51.jpg  Kurt_Warner_10.jpg   \n",
       "0                           68                   34                  59   \n",
       "1                           78                   73                 152   \n",
       "2                           65                   34                  66   \n",
       "3                           87                   82                 178   \n",
       "\n",
       "                              3455                        3456  \\\n",
       "Unnamed: 0  Priyanka_Chopra_51.jpg  Charlotte_Casiraghi_11.jpg   \n",
       "0                              122                          59   \n",
       "1                               93                          71   \n",
       "2                              119                          59   \n",
       "3                              105                          84   \n",
       "\n",
       "                              3457                   3458  \\\n",
       "Unnamed: 0  Thomas_Ferguson_02.jpg  Valerie_Harper_00.jpg   \n",
       "0                               35                     72   \n",
       "1                               94                    133   \n",
       "2                               35                     76   \n",
       "3                              105                    147   \n",
       "\n",
       "                           3459                         3460  \\\n",
       "Unnamed: 0  Maggie_Smith_00.jpg  Erin_Hershey_Presley_41.jpg   \n",
       "0                            52                           82   \n",
       "1                           149                           91   \n",
       "2                            56                           82   \n",
       "3                           160                          105   \n",
       "\n",
       "                                3461  \n",
       "Unnamed: 0  Rocco_Buttiglione_42.jpg  \n",
       "0                                 93  \n",
       "1                                134  \n",
       "2                                 93  \n",
       "3                                147  \n",
       "\n",
       "[5 rows x 3462 columns]"
      ]
     },
     "execution_count": 4,
     "metadata": {},
     "output_type": "execute_result"
    }
   ],
   "source": [
    "train_csv.head()"
   ]
  },
  {
   "cell_type": "code",
   "execution_count": 5,
   "metadata": {
    "ExecuteTime": {
     "end_time": "2019-10-05T14:44:36.205980Z",
     "start_time": "2019-10-05T14:44:36.203583Z"
    }
   },
   "outputs": [],
   "source": [
    "img_row = 224\n",
    "img_col = 224"
   ]
  },
  {
   "cell_type": "code",
   "execution_count": 6,
   "metadata": {
    "ExecuteTime": {
     "end_time": "2019-10-05T14:44:43.267556Z",
     "start_time": "2019-10-05T14:44:37.542638Z"
    }
   },
   "outputs": [
    {
     "name": "stderr",
     "output_type": "stream",
     "text": [
      "/home/praneet/venv/no_gpu/lib/python3.6/site-packages/ipykernel_launcher.py:18: DeprecationWarning: Both axis > a.ndim and axis < -a.ndim - 1 are deprecated and will raise an AxisError in the future.\n"
     ]
    }
   ],
   "source": [
    "all_coords = []\n",
    "images = []\n",
    "for i in range(train_csv.shape[1]):\n",
    "    \n",
    "    image_name = 'dataset/training/' + train_csv[i][0]\n",
    "    image = cv2.imread(image_name)\n",
    "    image = cv2.cvtColor(image, cv2.COLOR_BGR2GRAY)\n",
    "#     image = cv2.resize(image, (224, 224))\n",
    "    images.append(image)\n",
    "    \n",
    "    # should be int\n",
    "    coordinates = list(train_csv[i])[1:]\n",
    "    all_coords.append(np.array(coordinates))\n",
    "x_train = np.array(images)\n",
    "del images\n",
    "x_train = x_train.astype('float32')\n",
    "x_train /= 255\n",
    "x_train = np.expand_dims(x_train, axis=4)\n",
    "y_train = np.array(all_coords)\n",
    "del all_coords"
   ]
  },
  {
   "cell_type": "code",
   "execution_count": 7,
   "metadata": {
    "ExecuteTime": {
     "end_time": "2019-10-05T14:44:47.043288Z",
     "start_time": "2019-10-05T14:44:45.512114Z"
    }
   },
   "outputs": [
    {
     "name": "stderr",
     "output_type": "stream",
     "text": [
      "/home/praneet/venv/no_gpu/lib/python3.6/site-packages/ipykernel_launcher.py:17: DeprecationWarning: Both axis > a.ndim and axis < -a.ndim - 1 are deprecated and will raise an AxisError in the future.\n"
     ]
    }
   ],
   "source": [
    "all_coords = []\n",
    "images = []\n",
    "for i in range(test_csv.shape[1]):\n",
    "    \n",
    "    image_name = 'dataset/test/' + test_csv[i][0]\n",
    "    image = cv2.imread(image_name)\n",
    "    image = cv2.cvtColor(image, cv2.COLOR_BGR2GRAY)\n",
    "#     image = cv2.resize(image, (224, 224))\n",
    "    images.append(image)\n",
    "    \n",
    "    coordinates = list(test_csv[i])[1:]\n",
    "    all_coords.append(np.array(coordinates))\n",
    "x_test = np.array(images)\n",
    "del images\n",
    "x_test = x_test.astype('float32')\n",
    "x_test /= 255\n",
    "x_test = np.expand_dims(x_test, axis=4)\n",
    "y_test = np.array(all_coords)\n",
    "del all_coords"
   ]
  },
  {
   "cell_type": "code",
   "execution_count": 8,
   "metadata": {
    "ExecuteTime": {
     "end_time": "2019-10-05T14:44:48.542999Z",
     "start_time": "2019-10-05T14:44:48.539660Z"
    }
   },
   "outputs": [
    {
     "data": {
      "text/plain": [
       "(770, 224, 224, 1)"
      ]
     },
     "execution_count": 8,
     "metadata": {},
     "output_type": "execute_result"
    }
   ],
   "source": [
    "x_test.shape"
   ]
  },
  {
   "cell_type": "code",
   "execution_count": 9,
   "metadata": {
    "ExecuteTime": {
     "end_time": "2019-10-05T14:44:50.167962Z",
     "start_time": "2019-10-05T14:44:50.012897Z"
    }
   },
   "outputs": [
    {
     "name": "stdout",
     "output_type": "stream",
     "text": [
      "_________________________________________________________________\n",
      "Layer (type)                 Output Shape              Param #   \n",
      "=================================================================\n",
      "conv2d_1 (Conv2D)            (None, None, None, 64)    640       \n",
      "_________________________________________________________________\n",
      "max_pooling2d_1 (MaxPooling2 (None, None, None, 64)    0         \n",
      "_________________________________________________________________\n",
      "dropout_1 (Dropout)          (None, None, None, 64)    0         \n",
      "_________________________________________________________________\n",
      "conv2d_2 (Conv2D)            (None, None, None, 128)   73856     \n",
      "_________________________________________________________________\n",
      "max_pooling2d_2 (MaxPooling2 (None, None, None, 128)   0         \n",
      "_________________________________________________________________\n",
      "dropout_2 (Dropout)          (None, None, None, 128)   0         \n",
      "_________________________________________________________________\n",
      "conv2d_3 (Conv2D)            (None, None, None, 256)   295168    \n",
      "_________________________________________________________________\n",
      "dropout_3 (Dropout)          (None, None, None, 256)   0         \n",
      "_________________________________________________________________\n",
      "global_average_pooling2d_1 ( (None, 256)               0         \n",
      "_________________________________________________________________\n",
      "dense_1 (Dense)              (None, 256)               65792     \n",
      "_________________________________________________________________\n",
      "dropout_4 (Dropout)          (None, 256)               0         \n",
      "_________________________________________________________________\n",
      "dense_2 (Dense)              (None, 136)               34952     \n",
      "=================================================================\n",
      "Total params: 470,408\n",
      "Trainable params: 470,408\n",
      "Non-trainable params: 0\n",
      "_________________________________________________________________\n"
     ]
    }
   ],
   "source": [
    "model = Sequential()\n",
    "model.add(Conv2D(64, (3, 3), strides=(1, 1),\n",
    "                 activation='relu', input_shape=(None, None, 1)))\n",
    "model.add(MaxPool2D(pool_size=(2, 2)))\n",
    "model.add(Dropout(0.5))\n",
    "model.add(Conv2D(128, (3, 3), strides=(1, 1), activation='relu'))\n",
    "model.add(MaxPool2D(pool_size=(2, 2)))\n",
    "model.add(Dropout(0.5))\n",
    "model.add(Conv2D(256, (3, 3), activation='relu'))\n",
    "model.add(Dropout(0.5))\n",
    "model.add(GlobalAveragePooling2D())\n",
    "# model.add(Flatten())\n",
    "model.add(Dense(256, activation='relu'))\n",
    "model.add(Dropout(0.3))\n",
    "model.add(Dense(136))\n",
    "model.summary()"
   ]
  },
  {
   "cell_type": "code",
   "execution_count": 10,
   "metadata": {
    "ExecuteTime": {
     "end_time": "2019-10-05T15:26:57.558088Z",
     "start_time": "2019-10-05T14:45:11.253482Z"
    }
   },
   "outputs": [
    {
     "name": "stdout",
     "output_type": "stream",
     "text": [
      "Train on 3462 samples, validate on 770 samples\n",
      "Epoch 1/2\n",
      "3462/3462 [==============================] - 1267s 366ms/step - loss: 3631.7802 - mean_absolute_error: 45.5169 - acc: 0.1456 - val_loss: 1436.7333 - val_mean_absolute_error: 27.8103 - val_acc: 0.6195\n",
      "Epoch 2/2\n",
      "3462/3462 [==============================] - 1239s 358ms/step - loss: 1541.0632 - mean_absolute_error: 30.3319 - acc: 0.1687 - val_loss: 1258.6872 - val_mean_absolute_error: 27.4515 - val_acc: 0.6195\n"
     ]
    },
    {
     "data": {
      "text/plain": [
       "<keras.callbacks.History at 0x7f3e9c384b70>"
      ]
     },
     "execution_count": 10,
     "metadata": {},
     "output_type": "execute_result"
    }
   ],
   "source": [
    "model.compile(optimizer = 'adam',loss = 'mean_squared_error', metrics = ['mae','acc'])\n",
    "model.fit(x_train,y_train,batch_size=32, epochs=2,validation_data=(x_test,y_test))"
   ]
  },
  {
   "cell_type": "code",
   "execution_count": null,
   "metadata": {},
   "outputs": [],
   "source": []
  },
  {
   "cell_type": "code",
   "execution_count": 11,
   "metadata": {
    "ExecuteTime": {
     "end_time": "2019-10-05T15:31:32.593692Z",
     "start_time": "2019-10-05T15:31:32.468248Z"
    }
   },
   "outputs": [
    {
     "name": "stderr",
     "output_type": "stream",
     "text": [
      "/home/praneet/venv/no_gpu/lib/python3.6/site-packages/ipykernel_launcher.py:5: DeprecationWarning: Both axis > a.ndim and axis < -a.ndim - 1 are deprecated and will raise an AxisError in the future.\n",
      "  \"\"\"\n"
     ]
    },
    {
     "data": {
      "text/plain": [
       "(1, 224, 224, 1)"
      ]
     },
     "execution_count": 11,
     "metadata": {},
     "output_type": "execute_result"
    }
   ],
   "source": [
    "image = cv2.imread('dataset/test/Aleksander_Kwasniewski_21.jpg')\n",
    "image = cv2.cvtColor(image, cv2.COLOR_BGR2GRAY)\n",
    "# image = cv2.resize(image, (224, 224))\n",
    "image = image / 255\n",
    "image = np.expand_dims(image, axis=4)\n",
    "image = np.expand_dims(image, axis=0)\n",
    "\n",
    "# image = image.reshape(-1, 1)\n",
    "\n",
    "result = model.predict(image)\n",
    "image.shape"
   ]
  },
  {
   "cell_type": "code",
   "execution_count": 12,
   "metadata": {
    "ExecuteTime": {
     "end_time": "2019-10-05T15:31:34.012805Z",
     "start_time": "2019-10-05T15:31:34.009706Z"
    }
   },
   "outputs": [
    {
     "name": "stdout",
     "output_type": "stream",
     "text": [
      "(1, 136)\n"
     ]
    }
   ],
   "source": [
    "print(result.shape)"
   ]
  },
  {
   "cell_type": "code",
   "execution_count": 13,
   "metadata": {
    "ExecuteTime": {
     "end_time": "2019-10-05T15:32:19.722368Z",
     "start_time": "2019-10-05T15:32:19.714909Z"
    }
   },
   "outputs": [],
   "source": [
    "empty = np.zeros((224, 224))"
   ]
  },
  {
   "cell_type": "code",
   "execution_count": 23,
   "metadata": {
    "ExecuteTime": {
     "end_time": "2019-10-05T15:35:41.393975Z",
     "start_time": "2019-10-05T15:35:41.390400Z"
    }
   },
   "outputs": [],
   "source": [
    "x = list(result[0])[:68]\n",
    "y = list(result[0])[68:]"
   ]
  },
  {
   "cell_type": "code",
   "execution_count": 26,
   "metadata": {
    "ExecuteTime": {
     "end_time": "2019-10-05T15:36:02.219782Z",
     "start_time": "2019-10-05T15:36:02.206380Z"
    }
   },
   "outputs": [],
   "source": [
    "coords = zip(x, y)"
   ]
  },
  {
   "cell_type": "code",
   "execution_count": 29,
   "metadata": {
    "ExecuteTime": {
     "end_time": "2019-10-05T15:36:54.015751Z",
     "start_time": "2019-10-05T15:36:54.001274Z"
    }
   },
   "outputs": [],
   "source": [
    "for x, y in list(coords):\n",
    "    empty[int(x), int(y)] = 255"
   ]
  },
  {
   "cell_type": "code",
   "execution_count": null,
   "metadata": {
    "ExecuteTime": {
     "start_time": "2019-10-05T15:37:31.823Z"
    }
   },
   "outputs": [],
   "source": [
    "cv2.imshow('title', empty)\n",
    "cv2.waitKey(0)\n",
    "cv2.destroyAllWindows()"
   ]
  },
  {
   "cell_type": "code",
   "execution_count": null,
   "metadata": {},
   "outputs": [],
   "source": []
  }
 ],
 "metadata": {
  "kernelspec": {
   "display_name": "Python 3",
   "language": "python",
   "name": "python3"
  },
  "language_info": {
   "codemirror_mode": {
    "name": "ipython",
    "version": 3
   },
   "file_extension": ".py",
   "mimetype": "text/x-python",
   "name": "python",
   "nbconvert_exporter": "python",
   "pygments_lexer": "ipython3",
   "version": "3.6.9"
  },
  "varInspector": {
   "cols": {
    "lenName": 16,
    "lenType": 16,
    "lenVar": 40
   },
   "kernels_config": {
    "python": {
     "delete_cmd_postfix": "",
     "delete_cmd_prefix": "del ",
     "library": "var_list.py",
     "varRefreshCmd": "print(var_dic_list())"
    },
    "r": {
     "delete_cmd_postfix": ") ",
     "delete_cmd_prefix": "rm(",
     "library": "var_list.r",
     "varRefreshCmd": "cat(var_dic_list()) "
    }
   },
   "types_to_exclude": [
    "module",
    "function",
    "builtin_function_or_method",
    "instance",
    "_Feature"
   ],
   "window_display": false
  }
 },
 "nbformat": 4,
 "nbformat_minor": 2
}
